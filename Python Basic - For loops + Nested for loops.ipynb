{
 "cells": [
  {
   "cell_type": "markdown",
   "id": "a2b539d6-ade6-4728-91d9-8b6c0f0bb911",
   "metadata": {},
   "source": [
    "# For Loops"
   ]
  },
  {
   "cell_type": "code",
   "execution_count": 2,
   "id": "cfd9a615-ae72-44fc-80f1-934784739e40",
   "metadata": {},
   "outputs": [],
   "source": [
    "integers = [1,2,3,4,5]"
   ]
  },
  {
   "cell_type": "code",
   "execution_count": 4,
   "id": "45ded824-08d6-4f9b-99de-6ca0ef21fa47",
   "metadata": {},
   "outputs": [
    {
     "name": "stdout",
     "output_type": "stream",
     "text": [
      "1\n",
      "2\n",
      "3\n",
      "4\n",
      "5\n"
     ]
    }
   ],
   "source": [
    "for number in integers:\n",
    "    print(number)"
   ]
  },
  {
   "cell_type": "code",
   "execution_count": 8,
   "id": "01dd0cbc-c1ad-4ddb-a057-1c9baa73f690",
   "metadata": {},
   "outputs": [
    {
     "name": "stdout",
     "output_type": "stream",
     "text": [
      "Analysis\n",
      "Analysis\n",
      "Analysis\n",
      "Analysis\n",
      "Analysis\n"
     ]
    }
   ],
   "source": [
    "for number in integers:\n",
    "    print('Analysis')"
   ]
  },
  {
   "cell_type": "code",
   "execution_count": null,
   "id": "f0397e05-2ed3-4dc1-8e86-7e65bef2e3de",
   "metadata": {},
   "outputs": [],
   "source": [
    "integers = [1,2,3,4,5]"
   ]
  },
  {
   "cell_type": "code",
   "execution_count": 10,
   "id": "2d12b4f6-087e-4748-ac22-8c47af5488a8",
   "metadata": {},
   "outputs": [
    {
     "name": "stdout",
     "output_type": "stream",
     "text": [
      "2\n",
      "4\n",
      "6\n",
      "8\n",
      "10\n"
     ]
    }
   ],
   "source": [
    "for Jelly in integers:\n",
    "    print(Jelly + Jelly)"
   ]
  },
  {
   "cell_type": "code",
   "execution_count": 12,
   "id": "5ec56bf8-1067-4d5b-9abc-3371501e5c0c",
   "metadata": {},
   "outputs": [],
   "source": [
    "ice_cream_dict = {'name': ' Taiwo Abiola', 'weekly intake': 5, 'Favorite ice cream':['Chocolate', 'Vanilla']}"
   ]
  },
  {
   "cell_type": "code",
   "execution_count": 14,
   "id": "d85381fb-8418-4058-97a7-097dc13cd06f",
   "metadata": {},
   "outputs": [
    {
     "name": "stdout",
     "output_type": "stream",
     "text": [
      " Taiwo Abiola\n",
      "5\n",
      "['Chocolate', 'Vanilla']\n"
     ]
    }
   ],
   "source": [
    "for cream in ice_cream_dict.values():\n",
    "    print(cream)"
   ]
  },
  {
   "cell_type": "code",
   "execution_count": 16,
   "id": "361b8278-93c9-448c-a632-23a1115f81dd",
   "metadata": {},
   "outputs": [
    {
     "name": "stdout",
     "output_type": "stream",
     "text": [
      "name ->  Taiwo Abiola\n",
      "weekly intake -> 5\n",
      "Favorite ice cream -> ['Chocolate', 'Vanilla']\n"
     ]
    }
   ],
   "source": [
    "for key, value in ice_cream_dict.items():\n",
    "    print(key, '->', value)"
   ]
  },
  {
   "cell_type": "code",
   "execution_count": null,
   "id": "0fbf52b1-b5a8-4c45-b9b5-40dd5a34ee30",
   "metadata": {},
   "outputs": [],
   "source": []
  },
  {
   "cell_type": "markdown",
   "id": "91cb3226-6dbd-46f3-98b3-f9f3d34a4b20",
   "metadata": {},
   "source": [
    "# Nested For Loops"
   ]
  },
  {
   "cell_type": "code",
   "execution_count": 19,
   "id": "3a4d2642-8f31-4b48-b31a-4a23bac24157",
   "metadata": {},
   "outputs": [],
   "source": [
    "flavors = ['Vanilla', 'Chocolate', 'Berry']\n",
    "toppings = ['Hot Fudge', 'Oreos', 'Mashmallows']"
   ]
  },
  {
   "cell_type": "code",
   "execution_count": 21,
   "id": "c6e28021-9698-4cf2-b5e1-fb2579c410fb",
   "metadata": {},
   "outputs": [
    {
     "name": "stdout",
     "output_type": "stream",
     "text": [
      "Vanilla topped with Hot Fudge\n",
      "Vanilla topped with Oreos\n",
      "Vanilla topped with Mashmallows\n",
      "Chocolate topped with Hot Fudge\n",
      "Chocolate topped with Oreos\n",
      "Chocolate topped with Mashmallows\n",
      "Berry topped with Hot Fudge\n",
      "Berry topped with Oreos\n",
      "Berry topped with Mashmallows\n"
     ]
    }
   ],
   "source": [
    "for one in flavors:\n",
    "    for two in toppings:\n",
    "        print(one, 'topped with', two)"
   ]
  },
  {
   "cell_type": "code",
   "execution_count": null,
   "id": "f241b33e-5c0c-40a9-a7a3-57ad1fc3ade9",
   "metadata": {},
   "outputs": [],
   "source": []
  },
  {
   "cell_type": "code",
   "execution_count": null,
   "id": "d3a478e8-4a7d-419f-8191-5e3eda7afa89",
   "metadata": {},
   "outputs": [],
   "source": []
  },
  {
   "cell_type": "code",
   "execution_count": null,
   "id": "f8c257d8-6647-4530-86c8-b2f6d9b47153",
   "metadata": {},
   "outputs": [],
   "source": []
  },
  {
   "cell_type": "code",
   "execution_count": null,
   "id": "54a1fe87-fd76-434e-ad90-645fa14aa113",
   "metadata": {},
   "outputs": [],
   "source": []
  },
  {
   "cell_type": "code",
   "execution_count": null,
   "id": "da2d8738-37a2-4fd6-843a-f49330299a16",
   "metadata": {},
   "outputs": [],
   "source": []
  },
  {
   "cell_type": "code",
   "execution_count": null,
   "id": "0251c414-3f6d-4322-aa03-9d04ad434643",
   "metadata": {},
   "outputs": [],
   "source": []
  },
  {
   "cell_type": "code",
   "execution_count": null,
   "id": "ab51145a-529c-4688-8b50-eea3df79d8d5",
   "metadata": {},
   "outputs": [],
   "source": []
  },
  {
   "cell_type": "code",
   "execution_count": null,
   "id": "e390b8dd-4125-4039-bc9e-323db6f6aeee",
   "metadata": {},
   "outputs": [],
   "source": []
  },
  {
   "cell_type": "code",
   "execution_count": null,
   "id": "d568b84f-7df2-40e2-aa28-fa08490d1482",
   "metadata": {},
   "outputs": [],
   "source": []
  },
  {
   "cell_type": "code",
   "execution_count": null,
   "id": "34a2479c-19d1-4730-aaee-93e58cf0f3f4",
   "metadata": {},
   "outputs": [],
   "source": []
  },
  {
   "cell_type": "code",
   "execution_count": null,
   "id": "f4848f84-237b-41fb-b63b-1769b3a2daad",
   "metadata": {},
   "outputs": [],
   "source": []
  },
  {
   "cell_type": "code",
   "execution_count": null,
   "id": "4fc6c006-102d-4285-8098-53fe3e829672",
   "metadata": {},
   "outputs": [],
   "source": []
  },
  {
   "cell_type": "code",
   "execution_count": null,
   "id": "bb821bef-4b5f-4dd4-8e75-52b2efe5aea7",
   "metadata": {},
   "outputs": [],
   "source": []
  },
  {
   "cell_type": "code",
   "execution_count": null,
   "id": "fa048d4d-7b1f-43b5-97be-4a5c455ef2c1",
   "metadata": {},
   "outputs": [],
   "source": []
  },
  {
   "cell_type": "code",
   "execution_count": null,
   "id": "aedebfca-97c1-4a57-845a-6fed8c35dbe4",
   "metadata": {},
   "outputs": [],
   "source": []
  },
  {
   "cell_type": "code",
   "execution_count": null,
   "id": "95523606-42f7-49e2-bee6-7b86838c1474",
   "metadata": {},
   "outputs": [],
   "source": []
  },
  {
   "cell_type": "code",
   "execution_count": null,
   "id": "a07f0037-27d1-4c77-aae9-9ba433d16bc6",
   "metadata": {},
   "outputs": [],
   "source": []
  },
  {
   "cell_type": "code",
   "execution_count": null,
   "id": "d6ffca96-bbaf-45c4-8846-178002cc559e",
   "metadata": {},
   "outputs": [],
   "source": []
  }
 ],
 "metadata": {
  "kernelspec": {
   "display_name": "Python 3 (ipykernel)",
   "language": "python",
   "name": "python3"
  },
  "language_info": {
   "codemirror_mode": {
    "name": "ipython",
    "version": 3
   },
   "file_extension": ".py",
   "mimetype": "text/x-python",
   "name": "python",
   "nbconvert_exporter": "python",
   "pygments_lexer": "ipython3",
   "version": "3.12.4"
  }
 },
 "nbformat": 4,
 "nbformat_minor": 5
}
