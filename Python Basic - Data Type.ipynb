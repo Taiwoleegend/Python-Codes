{
 "cells": [
  {
   "cell_type": "markdown",
   "id": "9afb3815-560d-4d58-a7bc-88e2f8e49d00",
   "metadata": {},
   "source": [
    "# Data Types"
   ]
  },
  {
   "cell_type": "code",
   "execution_count": 8,
   "id": "88509a66-83d9-4563-ad8d-fd255238ea52",
   "metadata": {},
   "outputs": [
    {
     "data": {
      "text/plain": [
       "int"
      ]
     },
     "execution_count": 8,
     "metadata": {},
     "output_type": "execute_result"
    }
   ],
   "source": [
    "type(-12 + 100)"
   ]
  },
  {
   "cell_type": "code",
   "execution_count": 12,
   "id": "afb6f6c7-c4d2-41ce-8ad9-8233f7aa9877",
   "metadata": {},
   "outputs": [
    {
     "data": {
      "text/plain": [
       "float"
      ]
     },
     "execution_count": 12,
     "metadata": {},
     "output_type": "execute_result"
    }
   ],
   "source": [
    "type(12 + 10.25)"
   ]
  },
  {
   "cell_type": "code",
   "execution_count": 14,
   "id": "8a82b3d6-bcea-44df-a5ff-7c488da74836",
   "metadata": {},
   "outputs": [
    {
     "data": {
      "text/plain": [
       "complex"
      ]
     },
     "execution_count": 14,
     "metadata": {},
     "output_type": "execute_result"
    }
   ],
   "source": [
    "type(12 + 3j)"
   ]
  },
  {
   "cell_type": "code",
   "execution_count": null,
   "id": "b0e23732-7afc-4548-9f45-8f76e97441a0",
   "metadata": {},
   "outputs": [],
   "source": []
  },
  {
   "cell_type": "code",
   "execution_count": 22,
   "id": "b1147c70-e5c2-4175-a0b6-49208eeec76e",
   "metadata": {},
   "outputs": [
    {
     "data": {
      "text/plain": [
       "bool"
      ]
     },
     "execution_count": 22,
     "metadata": {},
     "output_type": "execute_result"
    }
   ],
   "source": [
    "#Boolean\n",
    "\n",
    "type(1 > 5)"
   ]
  },
  {
   "cell_type": "code",
   "execution_count": 24,
   "id": "9a20ca48-83e8-4c3c-bf04-4e02a8887fa8",
   "metadata": {},
   "outputs": [
    {
     "data": {
      "text/plain": [
       "False"
      ]
     },
     "execution_count": 24,
     "metadata": {},
     "output_type": "execute_result"
    }
   ],
   "source": [
    "1 > 5"
   ]
  },
  {
   "cell_type": "code",
   "execution_count": 28,
   "id": "37340f7a-2438-4127-b16f-e730963e5483",
   "metadata": {},
   "outputs": [
    {
     "data": {
      "text/plain": [
       "True"
      ]
     },
     "execution_count": 28,
     "metadata": {},
     "output_type": "execute_result"
    }
   ],
   "source": [
    "1 == 1"
   ]
  },
  {
   "cell_type": "code",
   "execution_count": 30,
   "id": "84522b68-f0c4-45a7-aa7a-9fe5bdab715f",
   "metadata": {},
   "outputs": [
    {
     "data": {
      "text/plain": [
       "'Single Quote'"
      ]
     },
     "execution_count": 30,
     "metadata": {},
     "output_type": "execute_result"
    }
   ],
   "source": [
    "# strings\n",
    "\n",
    "'Single Quote'"
   ]
  },
  {
   "cell_type": "code",
   "execution_count": 32,
   "id": "3ca45560-24b3-4b82-8a7b-b58156d722dd",
   "metadata": {},
   "outputs": [
    {
     "data": {
      "text/plain": [
       "'Double Quote'"
      ]
     },
     "execution_count": 32,
     "metadata": {},
     "output_type": "execute_result"
    }
   ],
   "source": [
    "\"Double Quote\""
   ]
  },
  {
   "cell_type": "code",
   "execution_count": 36,
   "id": "c522f927-7edd-4a1b-8201-1af9c59f3c15",
   "metadata": {},
   "outputs": [],
   "source": [
    "multiline = \"\"\"\n",
    "I love data cleaning\n",
    "keeps me busy and concentrated,\n",
    "data modelling is not excluded.\n",
    "\n",
    "\n",
    "\"\"\""
   ]
  },
  {
   "cell_type": "code",
   "execution_count": 38,
   "id": "d837ca61-1af1-4cd2-b990-debc9d2caef9",
   "metadata": {},
   "outputs": [
    {
     "name": "stdout",
     "output_type": "stream",
     "text": [
      "\n",
      "I love data cleaning\n",
      "keeps me busy and concentrated,\n",
      "data modelling is not excluded.\n",
      "\n",
      "\n",
      "\n"
     ]
    }
   ],
   "source": [
    "print(multiline)"
   ]
  },
  {
   "cell_type": "code",
   "execution_count": 40,
   "id": "c187602f-2adf-4514-b2f2-2989daf8f3d0",
   "metadata": {},
   "outputs": [],
   "source": [
    " a = 'Hello world'"
   ]
  },
  {
   "cell_type": "code",
   "execution_count": 52,
   "id": "3f118823-a288-413d-86ee-b4c04bbaba9c",
   "metadata": {},
   "outputs": [
    {
     "name": "stdout",
     "output_type": "stream",
     "text": [
      "llo\n"
     ]
    }
   ],
   "source": [
    "print(a[2:5])"
   ]
  },
  {
   "cell_type": "code",
   "execution_count": 54,
   "id": "fe8c6882-9b58-451b-92de-5304ac1dae49",
   "metadata": {},
   "outputs": [
    {
     "data": {
      "text/plain": [
       "'Hello worldHello worldHello world'"
      ]
     },
     "execution_count": 54,
     "metadata": {},
     "output_type": "execute_result"
    }
   ],
   "source": [
    "a*3"
   ]
  },
  {
   "cell_type": "code",
   "execution_count": 56,
   "id": "a3b8e3f4-e723-431e-801b-24c1a7553fbd",
   "metadata": {},
   "outputs": [
    {
     "data": {
      "text/plain": [
       "'Hello worldHello world'"
      ]
     },
     "execution_count": 56,
     "metadata": {},
     "output_type": "execute_result"
    }
   ],
   "source": [
    "a + a"
   ]
  },
  {
   "cell_type": "code",
   "execution_count": null,
   "id": "e109ff8d-6047-4ec0-9171-6b5deabea92c",
   "metadata": {},
   "outputs": [],
   "source": []
  },
  {
   "cell_type": "code",
   "execution_count": 58,
   "id": "b98d852a-623f-474f-865f-8f894f7c8d9d",
   "metadata": {},
   "outputs": [
    {
     "data": {
      "text/plain": [
       "[1, 2, 3]"
      ]
     },
     "execution_count": 58,
     "metadata": {},
     "output_type": "execute_result"
    }
   ],
   "source": [
    "# list\n",
    "\n",
    "[1, 2, 3]"
   ]
  },
  {
   "cell_type": "code",
   "execution_count": 64,
   "id": "ff0a0ac0-40f5-44c0-bdfe-93eaaa207666",
   "metadata": {},
   "outputs": [
    {
     "data": {
      "text/plain": [
       "['Data Analyst', 'Data Science', 'Data Modelling']"
      ]
     },
     "execution_count": 64,
     "metadata": {},
     "output_type": "execute_result"
    }
   ],
   "source": [
    "['Data Analyst', 'Data Science', 'Data Modelling']"
   ]
  },
  {
   "cell_type": "code",
   "execution_count": 62,
   "id": "dc191339-12a3-4f7b-a484-ca289e1844be",
   "metadata": {},
   "outputs": [
    {
     "data": {
      "text/plain": [
       "['Vanilla', 2, ['Scoops', 'Spoons'], True]"
      ]
     },
     "execution_count": 62,
     "metadata": {},
     "output_type": "execute_result"
    }
   ],
   "source": [
    "['Vanilla', 2, ['Scoops','Spoons'],True]"
   ]
  },
  {
   "cell_type": "code",
   "execution_count": 66,
   "id": "0b0e3f67-069d-49c6-8369-3fc46df85c63",
   "metadata": {},
   "outputs": [
    {
     "data": {
      "text/plain": [
       "['Data Analyst', 'Data Science', 'Data Modelling', 'DAX']"
      ]
     },
     "execution_count": 66,
     "metadata": {},
     "output_type": "execute_result"
    }
   ],
   "source": [
    "Data_Analysis = ['Data Analyst', 'Data Science', 'Data Modelling']\n",
    "\n",
    "Data_Analysis.append('DAX')\n",
    "\n",
    "Data_Analysis"
   ]
  },
  {
   "cell_type": "code",
   "execution_count": 68,
   "id": "56579263-3c1d-4f01-a7c1-fbb1274681d3",
   "metadata": {},
   "outputs": [
    {
     "data": {
      "text/plain": [
       "['Machine Learning', 'Data Science', 'Data Modelling', 'DAX']"
      ]
     },
     "execution_count": 68,
     "metadata": {},
     "output_type": "execute_result"
    }
   ],
   "source": [
    "Data_Analysis[0] = 'Machine Learning'\n",
    "\n",
    "Data_Analysis"
   ]
  },
  {
   "cell_type": "code",
   "execution_count": 70,
   "id": "e1b305d0-b693-4fc3-8c08-50a8d67d5465",
   "metadata": {},
   "outputs": [],
   "source": [
    "nest_list = ['Vanilla', 2, ['Scoops','Spoons'],True]"
   ]
  },
  {
   "cell_type": "code",
   "execution_count": 90,
   "id": "a12876fd-7e1e-4c8f-a022-7ecb56f375e9",
   "metadata": {},
   "outputs": [
    {
     "data": {
      "text/plain": [
       "'Scoops'"
      ]
     },
     "execution_count": 90,
     "metadata": {},
     "output_type": "execute_result"
    }
   ],
   "source": [
    "nest_list[2][0]"
   ]
  },
  {
   "cell_type": "code",
   "execution_count": null,
   "id": "37c8b052-ef13-45bd-b9cc-37e72e2f53cb",
   "metadata": {},
   "outputs": [],
   "source": []
  },
  {
   "cell_type": "code",
   "execution_count": 92,
   "id": "5c565d47-d737-4a4a-8ae0-08342e402b2b",
   "metadata": {},
   "outputs": [],
   "source": [
    "#tuple\n",
    "\n",
    "tuple_scoops = (1,2,3,2,1)"
   ]
  },
  {
   "cell_type": "code",
   "execution_count": 94,
   "id": "eea90ac2-9ad2-4682-8aa0-896835dd2a72",
   "metadata": {},
   "outputs": [
    {
     "data": {
      "text/plain": [
       "tuple"
      ]
     },
     "execution_count": 94,
     "metadata": {},
     "output_type": "execute_result"
    }
   ],
   "source": [
    "type(tuple_scoops)"
   ]
  },
  {
   "cell_type": "code",
   "execution_count": 102,
   "id": "d4edf5ea-cca1-4a5a-a5f4-3db40aa1fb2f",
   "metadata": {},
   "outputs": [
    {
     "data": {
      "text/plain": [
       "2"
      ]
     },
     "execution_count": 102,
     "metadata": {},
     "output_type": "execute_result"
    }
   ],
   "source": [
    "tuple_scoops[1]"
   ]
  },
  {
   "cell_type": "code",
   "execution_count": 104,
   "id": "a4a0f307-1988-43bf-8966-198a44138408",
   "metadata": {},
   "outputs": [],
   "source": [
    "# sets\n",
    "\n",
    "daily_pints = {1,2,3}"
   ]
  },
  {
   "cell_type": "code",
   "execution_count": 108,
   "id": "500470aa-0280-45b5-b17a-9a1e940b440f",
   "metadata": {},
   "outputs": [
    {
     "data": {
      "text/plain": [
       "set"
      ]
     },
     "execution_count": 108,
     "metadata": {},
     "output_type": "execute_result"
    }
   ],
   "source": [
    "type(daily_pints)"
   ]
  },
  {
   "cell_type": "code",
   "execution_count": 110,
   "id": "dff3f22f-ef22-4f58-8473-3a0fe64ce02c",
   "metadata": {},
   "outputs": [
    {
     "name": "stdout",
     "output_type": "stream",
     "text": [
      "{1, 2, 3}\n"
     ]
    }
   ],
   "source": [
    "print(daily_pints)"
   ]
  },
  {
   "cell_type": "code",
   "execution_count": 128,
   "id": "24460184-784f-4918-b0fc-5c24a3c9fe79",
   "metadata": {},
   "outputs": [
    {
     "name": "stdout",
     "output_type": "stream",
     "text": [
      "{1, 2, 3, 4, 5, 6, 23}\n"
     ]
    }
   ],
   "source": [
    "daily_pints_log = {1,2,3,23,5,6,1,2,3,4}\n",
    "\n",
    "print(daily_pints_log)"
   ]
  },
  {
   "cell_type": "code",
   "execution_count": 134,
   "id": "97acc1eb-db9a-41eb-9c2e-24da59fb4651",
   "metadata": {},
   "outputs": [],
   "source": [
    "wifes_daily_pints_log = {1,2,3,23,4,1,8,6,2,1,3,4,0}"
   ]
  },
  {
   "cell_type": "raw",
   "id": "f6733975-12b9-410a-a821-ffa1a92c2347",
   "metadata": {},
   "source": [
    "print(daily_pints_log | wifes_daily_pints_log)"
   ]
  },
  {
   "cell_type": "code",
   "execution_count": 146,
   "id": "d25b0ca9-1422-4e21-b3db-9c9409e58efa",
   "metadata": {},
   "outputs": [
    {
     "name": "stdout",
     "output_type": "stream",
     "text": [
      "{1, 2, 3, 4, 6, 23}\n"
     ]
    }
   ],
   "source": [
    "print(daily_pints_log & wifes_daily_pints_log)"
   ]
  },
  {
   "cell_type": "code",
   "execution_count": 148,
   "id": "2f30b57d-65a2-47bf-8a83-f3975f8ed2f2",
   "metadata": {},
   "outputs": [
    {
     "name": "stdout",
     "output_type": "stream",
     "text": [
      "{5}\n"
     ]
    }
   ],
   "source": [
    "print(daily_pints_log - wifes_daily_pints_log)"
   ]
  },
  {
   "cell_type": "code",
   "execution_count": 150,
   "id": "62b098da-35f3-4c18-8710-0bb77e2c2d33",
   "metadata": {},
   "outputs": [
    {
     "name": "stdout",
     "output_type": "stream",
     "text": [
      "{0, 8}\n"
     ]
    }
   ],
   "source": [
    "print(wifes_daily_pints_log - daily_pints_log )"
   ]
  },
  {
   "cell_type": "code",
   "execution_count": 152,
   "id": "96e80eb2-dd67-4d46-9c13-b61ad69991b5",
   "metadata": {},
   "outputs": [
    {
     "name": "stdout",
     "output_type": "stream",
     "text": [
      "{0, 5, 8}\n"
     ]
    }
   ],
   "source": [
    "print(wifes_daily_pints_log ^ daily_pints_log )"
   ]
  },
  {
   "cell_type": "code",
   "execution_count": 154,
   "id": "ebd7f07a-ec61-43a3-b9b7-52ae6adfff51",
   "metadata": {},
   "outputs": [],
   "source": [
    "# dictionaries\n",
    "# key/value pair\n",
    "\n",
    "dict_cream = {'name': 'Taiwo Abiola', 'weekly Intake': 5, 'favorite ice cream': ['Chocolate','Vanilla']}"
   ]
  },
  {
   "cell_type": "code",
   "execution_count": 156,
   "id": "6582b89b-a7cb-43b8-a098-a213f4df055e",
   "metadata": {},
   "outputs": [
    {
     "data": {
      "text/plain": [
       "dict"
      ]
     },
     "execution_count": 156,
     "metadata": {},
     "output_type": "execute_result"
    }
   ],
   "source": [
    "type(dict_cream)"
   ]
  },
  {
   "cell_type": "code",
   "execution_count": 158,
   "id": "65bd2b76-e90a-4df3-8ccc-a3ff9a629b0a",
   "metadata": {},
   "outputs": [
    {
     "name": "stdout",
     "output_type": "stream",
     "text": [
      "{'name': 'Taiwo Abiola', 'weekly Intake': 5, 'favorite ice cream': ['Chocolate', 'Vanilla']}\n"
     ]
    }
   ],
   "source": [
    "print(dict_cream)"
   ]
  },
  {
   "cell_type": "code",
   "execution_count": 166,
   "id": "12fa86ff-2fc8-4296-9198-280e2edc8df4",
   "metadata": {},
   "outputs": [
    {
     "data": {
      "text/plain": [
       "dict_values(['Taiwo Abiola', 5, ['Chocolate', 'Vanilla']])"
      ]
     },
     "execution_count": 166,
     "metadata": {},
     "output_type": "execute_result"
    }
   ],
   "source": [
    "dict_cream.values()"
   ]
  },
  {
   "cell_type": "code",
   "execution_count": 170,
   "id": "285f3dce-c9dd-4ab8-90e1-d30c4d5e8646",
   "metadata": {},
   "outputs": [
    {
     "data": {
      "text/plain": [
       "dict_keys(['name', 'weekly Intake', 'favorite ice cream'])"
      ]
     },
     "execution_count": 170,
     "metadata": {},
     "output_type": "execute_result"
    }
   ],
   "source": [
    "dict_cream.keys()"
   ]
  },
  {
   "cell_type": "code",
   "execution_count": 172,
   "id": "39c5e704-021c-4adc-ab37-1a819e3168bc",
   "metadata": {},
   "outputs": [
    {
     "data": {
      "text/plain": [
       "dict_items([('name', 'Taiwo Abiola'), ('weekly Intake', 5), ('favorite ice cream', ['Chocolate', 'Vanilla'])])"
      ]
     },
     "execution_count": 172,
     "metadata": {},
     "output_type": "execute_result"
    }
   ],
   "source": [
    "dict_cream.items()"
   ]
  },
  {
   "cell_type": "code",
   "execution_count": 174,
   "id": "d35d53f8-4511-416f-8927-88fd461601cb",
   "metadata": {},
   "outputs": [
    {
     "data": {
      "text/plain": [
       "'Taiwo Abiola'"
      ]
     },
     "execution_count": 174,
     "metadata": {},
     "output_type": "execute_result"
    }
   ],
   "source": [
    "dict_cream['name']"
   ]
  },
  {
   "cell_type": "code",
   "execution_count": 176,
   "id": "0fc19126-b64b-4c69-a664-869b2fa70a40",
   "metadata": {},
   "outputs": [
    {
     "data": {
      "text/plain": [
       "['Chocolate', 'Vanilla']"
      ]
     },
     "execution_count": 176,
     "metadata": {},
     "output_type": "execute_result"
    }
   ],
   "source": [
    "dict_cream['favorite ice cream']"
   ]
  },
  {
   "cell_type": "code",
   "execution_count": 178,
   "id": "e29f3a36-2baf-44a1-9b62-73fb1a9e9cb8",
   "metadata": {},
   "outputs": [
    {
     "name": "stdout",
     "output_type": "stream",
     "text": [
      "{'name': 'Abiola Toheeb', 'weekly Intake': 5, 'favorite ice cream': ['Chocolate', 'Vanilla']}\n"
     ]
    }
   ],
   "source": [
    "c['name'] = 'Abiola Toheeb'\n",
    "\n",
    "print(dict_cream)"
   ]
  },
  {
   "cell_type": "code",
   "execution_count": 182,
   "id": "869abaa3-31bf-4a09-a0ee-880788e1c6f0",
   "metadata": {},
   "outputs": [
    {
     "name": "stdout",
     "output_type": "stream",
     "text": [
      "{'name': 'Abiola Toheeb', 'weekly Intake': 10, 'favorite ice cream': ['Chocolate', 'Vanilla'], 'weight': 300}\n"
     ]
    }
   ],
   "source": [
    "dict_cream.update({'name': 'Abiola Toheeb', 'weekly Intake': 10, 'weight': 300})\n",
    "\n",
    "print(dict_cream)"
   ]
  },
  {
   "cell_type": "code",
   "execution_count": 184,
   "id": "604d5b54-ab08-46e7-aaa5-51e61a6eb035",
   "metadata": {},
   "outputs": [
    {
     "name": "stdout",
     "output_type": "stream",
     "text": [
      "{'name': 'Abiola Toheeb', 'weekly Intake': 10, 'favorite ice cream': ['Chocolate', 'Vanilla']}\n"
     ]
    }
   ],
   "source": [
    "del dict_cream['weight']\n",
    "\n",
    "print(dict_cream)"
   ]
  },
  {
   "cell_type": "code",
   "execution_count": null,
   "id": "46fc1236-4e57-4eb0-a238-76485e1fc585",
   "metadata": {},
   "outputs": [],
   "source": []
  },
  {
   "cell_type": "code",
   "execution_count": null,
   "id": "78c84af1-4995-40c7-a4e2-15ec51bec687",
   "metadata": {},
   "outputs": [],
   "source": []
  },
  {
   "cell_type": "code",
   "execution_count": null,
   "id": "40ba8fcb-33c6-4099-b742-46861334b8e8",
   "metadata": {},
   "outputs": [],
   "source": []
  },
  {
   "cell_type": "code",
   "execution_count": null,
   "id": "dfb24d9e-7be5-4ba0-956d-27f7d4e8156e",
   "metadata": {},
   "outputs": [],
   "source": []
  },
  {
   "cell_type": "code",
   "execution_count": null,
   "id": "3cf055dc-a56e-4fdf-96b3-d543c3b59107",
   "metadata": {},
   "outputs": [],
   "source": []
  },
  {
   "cell_type": "code",
   "execution_count": null,
   "id": "c5b8af5d-1b00-4d4c-b0b8-02e1a6eb7837",
   "metadata": {},
   "outputs": [],
   "source": []
  },
  {
   "cell_type": "code",
   "execution_count": null,
   "id": "c67fceca-55e0-465f-aee3-2c8101649828",
   "metadata": {},
   "outputs": [],
   "source": []
  }
 ],
 "metadata": {
  "kernelspec": {
   "display_name": "Python 3 (ipykernel)",
   "language": "python",
   "name": "python3"
  },
  "language_info": {
   "codemirror_mode": {
    "name": "ipython",
    "version": 3
   },
   "file_extension": ".py",
   "mimetype": "text/x-python",
   "name": "python",
   "nbconvert_exporter": "python",
   "pygments_lexer": "ipython3",
   "version": "3.12.4"
  }
 },
 "nbformat": 4,
 "nbformat_minor": 5
}
